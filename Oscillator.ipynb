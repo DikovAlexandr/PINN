{
 "cells": [
  {
   "cell_type": "code",
   "execution_count": 2,
   "metadata": {},
   "outputs": [],
   "source": [
    "import os\n",
    "import scipy.io\n",
    "import torch\n",
    "import torch.nn as nn\n",
    "import numpy as np\n",
    "import matplotlib.pyplot as plt\n",
    "from matplotlib.colors import Normalize\n",
    "import matplotlib.animation as animation\n",
    "from matplotlib.image import imread"
   ]
  },
  {
   "cell_type": "markdown",
   "metadata": {},
   "source": [
    "### Oscillator PINN"
   ]
  },
  {
   "cell_type": "code",
   "execution_count": 5,
   "metadata": {},
   "outputs": [],
   "source": [
    "def exact_solution(d, w0, t):\n",
    "    '''\n",
    "    Defines the analytical solution to the under-damped harmonic \n",
    "    oscillator problem above.\n",
    "    '''\n",
    "    assert d < w0\n",
    "    w = np.sqrt(w0**2-d**2)\n",
    "    phi = np.arctan(-d/w)\n",
    "    A = 1/(2*np.cos(phi))\n",
    "    cos = torch.cos(phi+w*t)\n",
    "    exp = torch.exp(-d*t)\n",
    "    u = exp*2*A*cos\n",
    "    return u\n",
    "\n",
    "class FCN(nn. Module): \n",
    "    '''\n",
    "    Defines a standard fully-connected network in PyTorch\n",
    "    '''\n",
    "    def __init__(self, N_INPUT, N_OUTPUT, N_HIDDEN, N_LAYERS):\n",
    "        super().__init__()\n",
    "        activation = nn.Tanh\n",
    "        self.fcs = nn.Sequential(*[nn.Linear(N_INPUT, N_HIDDEN), activation()])\n",
    "        self.fch = nn.Sequential(*[nn. Sequential(*[ nn.Linear(N_HIDDEN, N_HIDDEN), activation()]) for _ in range(N_LAYERS-1)])\n",
    "        self.fce = nn.Linear(N_HIDDEN, N_OUTPUT)\n",
    "\n",
    "    def forward(self, x):\n",
    "        x = self.fcs(x)\n",
    "        x = self.fch(x)\n",
    "        x = self.fce(x)\n",
    "        return x"
   ]
  },
  {
   "cell_type": "code",
   "execution_count": null,
   "metadata": {},
   "outputs": [],
   "source": [
    "torch.manual_seed(123)\n",
    "\n",
    "# Define the output folder for the images\n",
    "output_folder = os.path.join(os.getcwd(), \"images\")\n",
    "os.makedirs(output_folder, exist_ok=True)\n",
    "\n",
    "# Define list for loss values to be plotted\n",
    "losses = []\n",
    "\n",
    "# Define the PINN model\n",
    "pinn = FCN(1, 1, 32, 3)\n",
    "\n",
    "# Define boundary points for the boundary loss\n",
    "t_boundary = torch.tensor(0.).view(-1, 1).requires_grad_(True)\n",
    "\n",
    "# Define training points over the entire domain for the physics loss\n",
    "t_physics = torch.linspace(0, 1, 30).view(-1, 1).requires_grad_(True)\n",
    "\n",
    "# Define the parameters in the PDE\n",
    "d, w0 = 2, 20\n",
    "mu, k = 2*d, w0**2\n",
    "\n",
    "# Arrays for validating\n",
    "t_test = torch.linspace(0, 1, 100).view(-1, 1)\n",
    "u_exact = exact_solution(d, w0, t_test)\n",
    "\n",
    "optimizer = torch.optim.Adam(pinn.parameters(), lr=1e-3)\n",
    "\n",
    "# Define the number of epochs\n",
    "num_epochs = 15000\n",
    "\n",
    "# Train the PINN\n",
    "for i in range(num_epochs):\n",
    "    optimizer.zero_grad()\n",
    "\n",
    "    # Loss coefficients\n",
    "    lambda1, lambda2 = 1e-1, 1e-4\n",
    "\n",
    "    # Compute the boundary loss\n",
    "    u_pred = pinn(t_boundary)\n",
    "    loss1 = (torch.squeeze(u_pred) - 1)**2\n",
    "    # boundary_loss = torch.mean((u_pred - 0)**2)\n",
    "\n",
    "    dudt = torch.autograd.grad(u_pred, t_boundary, torch.ones_like(u_pred), create_graph=True)[0]\n",
    "    loss2 = (torch.squeeze(dudt) - 0)**2\n",
    "\n",
    "    # Compute the physics loss\n",
    "    u_pred = pinn(t_physics)\n",
    "\n",
    "    dudt = torch.autograd.grad(u_pred, t_physics, torch.ones_like(u_pred), create_graph=True)[0]\n",
    "    d2udt2 = torch.autograd.grad(dudt, t_physics, torch.ones_like(dudt), create_graph=True)[0]\n",
    "    loss3 = torch.mean((d2udt2 + mu*dudt + k*u_pred)**2)\n",
    "\n",
    "    # Compute the total loss\n",
    "    loss = loss1 + lambda1*loss2 + lambda2*loss3\n",
    "    loss.backward()\n",
    "    optimizer.step()\n",
    "    \n",
    "    if i % 100 == 0:\n",
    "        losses.append(loss.item())\n",
    "        print(f\"Epoch {i}: Loss {loss}\")\n",
    "        u = pinn(t_test).detach()\n",
    "        plt.figure(figsize=(4, 4))\n",
    "        plt.scatter(t_physics.detach()[:,0],\n",
    "                    torch.zeros_like(t_physics)[:,0], s=20, lw=0, c='g', alpha=0.6)\n",
    "        plt.scatter(t_boundary.detach()[:,0],\n",
    "                    torch.zeros_like(t_boundary)[:,0], s=20, lw=0, c='r', alpha=0.6)\n",
    "        plt.plot(t_test[:,0], u_exact[:,0], label=\"Exact Solution\", c='pink')\n",
    "        plt.plot(t_test[:,0], u[:,0], label=\"PINN Solution\", c='b')\n",
    "        plt.title(f\"Training Step {i}\")\n",
    "        plt.legend()\n",
    "        \n",
    "        image_path = os.path.join(output_folder, \n",
    "                                  \"epoch_{:0{width}d}.png\".format(i, width=len(str(num_epochs))))\n",
    "        plt.savefig(image_path)\n",
    "        plt.close()"
   ]
  },
  {
   "cell_type": "code",
   "execution_count": 19,
   "metadata": {},
   "outputs": [
    {
     "name": "stderr",
     "output_type": "stream",
     "text": [
      "C:\\Users\\dsash\\AppData\\Local\\Temp\\ipykernel_16816\\2480283814.py:4: DeprecationWarning: Starting with ImageIO v3 the behavior of this function will switch to that of iio.v3.imread. To keep the current behavior (and make this warning disappear) use `import imageio.v2 as imageio` or call `imageio.v2.imread` directly.\n",
      "  images = [imageio.imread(os.path.join(output_folder, f\"{image}\")) for image in os.listdir(output_folder) if image.endswith(\".png\")]\n"
     ]
    }
   ],
   "source": [
    "import imageio\n",
    "\n",
    "os.listdir(output_folder)\n",
    "images = [imageio.imread(os.path.join(output_folder, f\"{image}\")) for image in os.listdir(output_folder) if image.endswith(\".png\")]\n",
    "imageio.mimsave(os.path.join(os.getcwd(), 'animation.gif'), images, fps=30, duration=0.1, loop=0)"
   ]
  },
  {
   "cell_type": "code",
   "execution_count": 20,
   "metadata": {},
   "outputs": [
    {
     "data": {
      "text/plain": [
       "<matplotlib.legend.Legend at 0x188f46d8090>"
      ]
     },
     "execution_count": 20,
     "metadata": {},
     "output_type": "execute_result"
    },
    {
     "data": {
      "image/png": "[encoded data removed]",
      "text/plain": [
       "<Figure size 640x480 with 1 Axes>"
      ]
     },
     "metadata": {},
     "output_type": "display_data"
    }
   ],
   "source": [
    "plt.plot(list(range(len(losses))), losses, label=\"PINN Solution\", c='r')\n",
    "plt.title(f\"Loss dynamics\")\n",
    "plt.legend()"
   ]
  }
 ],
 "metadata": {
  "kernelspec": {
   "display_name": "ai_news",
   "language": "python",
   "name": "python3"
  },
  "language_info": {
   "codemirror_mode": {
    "name": "ipython",
    "version": 3
   },
   "file_extension": ".py",
   "mimetype": "text/x-python",
   "name": "python",
   "nbconvert_exporter": "python",
   "pygments_lexer": "ipython3",
   "version": "3.11.6"
  }
 },
 "nbformat": 4,
 "nbformat_minor": 2
}
