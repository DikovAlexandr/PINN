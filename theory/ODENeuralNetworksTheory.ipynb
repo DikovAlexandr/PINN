{
 "cells": [
  {
   "cell_type": "markdown",
   "metadata": {},
   "source": [
    "# First order ODE:"
   ]
  },
  {
   "cell_type": "markdown",
   "metadata": {},
   "source": [
    "\\begin{equation}\n",
    "    \\frac{dy}{dx} + p(x)\\cdot y = f(x)\n",
    "\\end{equation}\n",
    "\n",
    "\\begin{equation}\n",
    "    x \\; \\in \\; [0, 1]\n",
    "\\end{equation}\n",
    "\n",
    "\\begin{equation}\n",
    "    y(0) = A\n",
    "\\end{equation}"
   ]
  },
  {
   "cell_type": "markdown",
   "metadata": {},
   "source": [
    "# Solving ODE:"
   ]
  },
  {
   "cell_type": "markdown",
   "metadata": {},
   "source": [
    "Finding the solution for the differential equation is the same as minimizing loss function ($min\\{\\mathcal{L} \\}$), where the loss function is defined as:\n",
    "\n",
    "\\begin{equation}\n",
    "    \\mathcal{L} = \\int_0^1 \\left(\\frac{d y}{dx} - f(x)\\right)^2 dx\n",
    "\\end{equation}"
   ]
  },
  {
   "cell_type": "markdown",
   "metadata": {},
   "source": [
    "# Neural Networks"
   ]
  },
  {
   "cell_type": "markdown",
   "metadata": {},
   "source": [
    "\\begin{equation}\n",
    "    y \\approx \\mathcal{N}(x)\n",
    "\\end{equation}\n",
    "\n",
    "Loss function:\n",
    "\n",
    "\\begin{equation}   \n",
    "    MSE = MSE_f + MSE_u\n",
    "\\end{equation}\n",
    "\n",
    "where\n",
    "\n",
    "\\begin{equation}\n",
    "    MSE_f = \\frac{1}{N_f} \\sum_{i=1}^{N_f} (\\frac{d \\mathcal{N}(x)}{dx}|_{x = x_i} - f(x_i))^2\n",
    "\\end{equation}\n",
    "\n",
    "and\n",
    "\n",
    "\\begin{equation}\n",
    "    MSE_u = \\frac{1}{N_u} \\sum_{i=1}^{N_u} (\\mathcal{N}(x_i) - y(x_i))^2\n",
    "\\end{equation}\n"
   ]
  },
  {
   "cell_type": "markdown",
   "metadata": {},
   "source": [
    "## Building Neural Network "
   ]
  },
  {
   "cell_type": "code",
   "execution_count": 1,
   "metadata": {},
   "outputs": [],
   "source": [
    "import torch\n",
    "import torch.nn as nn\n",
    "\n",
    "# check if GPU is available and use it; otherwise use CPU\n",
    "device = torch.device(\"cuda:0\" if torch.cuda.is_available() else \"cpu\")\n"
   ]
  },
  {
   "cell_type": "code",
   "execution_count": 2,
   "metadata": {},
   "outputs": [],
   "source": [
    "class Network(nn.Module):\n",
    "    def __init__(self):\n",
    "        super().__init__()\n",
    "        self.hidden_layer = nn.Linear(1, 10)\n",
    "        self.output_layer = nn.Linear(10, 1)\n",
    "\n",
    "    def forward(self, x):\n",
    "        layer_out = torch.sigmoid(self.hidden_layer(x))\n",
    "        output = self.output_layer(layer_out)\n",
    "        return output\n",
    "\n",
    "#N = nn.Sequential(nn.Linear(1, 10), nn.Sigmoid(), nn.Linear(10, 1))"
   ]
  },
  {
   "cell_type": "code",
   "execution_count": 3,
   "metadata": {},
   "outputs": [],
   "source": [
    "N = Network()\n",
    "N = N.to(device)"
   ]
  },
  {
   "cell_type": "markdown",
   "metadata": {},
   "source": [
    "## Example Function and BC"
   ]
  },
  {
   "cell_type": "markdown",
   "metadata": {},
   "source": [
    "\\begin{equation}\n",
    "    \\begin{cases}\n",
    "      f(x) = e^x\\\\\n",
    "      p(x) = 0\n",
    "    \\end{cases}\\,.\n",
    "\\end{equation}\n",
    "\n",
    "\\begin{equation}\n",
    "    y(0) = 1\n",
    "\\end{equation}\n"
   ]
  },
  {
   "cell_type": "markdown",
   "metadata": {},
   "source": [
    "### Exact Solution"
   ]
  },
  {
   "cell_type": "markdown",
   "metadata": {},
   "source": [
    "\\begin{equation}\n",
    "    y = e^x\n",
    "\\end{equation}"
   ]
  },
  {
   "cell_type": "code",
   "execution_count": 4,
   "metadata": {},
   "outputs": [],
   "source": [
    "def f(x):\n",
    "    return torch.exp(x)\n",
    "\n",
    "def loss(x):\n",
    "    x.requires_grad = True\n",
    "    y = N(x)\n",
    "    dy_dx = torch.autograd.grad(y.sum(), x, create_graph=True)[0]\n",
    "    \n",
    "    return torch.mean( (dy_dx - f(x))**2 ) + (y[0, 0] - 1.)**2"
   ]
  },
  {
   "cell_type": "code",
   "execution_count": 5,
   "metadata": {},
   "outputs": [],
   "source": [
    "optimizer = torch.optim.LBFGS(N.parameters())\n",
    "\n",
    "x = torch.linspace(0, 1, 100)[:, None]\n",
    "\n",
    "def closure():\n",
    "    optimizer.zero_grad()\n",
    "    l = loss(x)\n",
    "    l.backward()\n",
    "\n",
    "    return l\n",
    "\n",
    "epochs = 10\n",
    "for i in range(epochs):\n",
    "    optimizer.step(closure)\n"
   ]
  },
  {
   "cell_type": "code",
   "execution_count": 6,
   "metadata": {},
   "outputs": [
    {
     "data": {
      "image/png": "[encoded data removed]",
      "text/plain": [
       "<Figure size 720x432 with 1 Axes>"
      ]
     },
     "metadata": {
      "needs_background": "light"
     },
     "output_type": "display_data"
    }
   ],
   "source": [
    "import matplotlib.pyplot as plt\n",
    "\n",
    "xx = torch.linspace(0, 1, 100)[:, None]\n",
    "with torch.no_grad():\n",
    "    yy = N(xx)\n",
    "\n",
    "plt.figure(figsize=(10, 6))\n",
    "plt.plot(xx, yy, label=\"Predicted\")\n",
    "plt.plot(xx, torch.exp(xx), '--', label=\"Exact\")\n",
    "plt.xlabel('x')\n",
    "plt.ylabel('y')\n",
    "plt.legend()\n",
    "plt.grid()"
   ]
  },
  {
   "cell_type": "markdown",
   "metadata": {},
   "source": [
    "# Second order ODE:"
   ]
  },
  {
   "cell_type": "markdown",
   "metadata": {},
   "source": [
    "\\begin{equation}\n",
    "    \\frac{d^2 y}{dx^2} + p(x) \\frac{dy}{dx} + q(x) y = f(x)\n",
    "\\end{equation}\n",
    "\n",
    "\\begin{equation}\n",
    "    x \\; \\in \\; [0, 1]\n",
    "\\end{equation}\n",
    "\n",
    "\\begin{equation}\n",
    "    y(0) = A\n",
    "\\end{equation}\n",
    "\n",
    "\\begin{equation}\n",
    "    y(1) = B\n",
    "\\end{equation}"
   ]
  },
  {
   "cell_type": "markdown",
   "metadata": {},
   "source": [
    "## Example Function and BC"
   ]
  },
  {
   "cell_type": "markdown",
   "metadata": {},
   "source": [
    "\\begin{equation}\n",
    "    \\begin{cases}\n",
    "      p(x) = 0\\\\\n",
    "      q(x) = 0\\\\\n",
    "      f(x) = -1\n",
    "    \\end{cases}\\,.\n",
    "\\end{equation}\n",
    "\n",
    "\\begin{equation}\n",
    "    \\begin{cases}\n",
    "      y(0) = 0\\\\\n",
    "      y(1) = 0\n",
    "    \\end{cases}\\,.\n",
    "\\end{equation}"
   ]
  },
  {
   "cell_type": "markdown",
   "metadata": {},
   "source": [
    "### Exact Solution"
   ]
  },
  {
   "cell_type": "markdown",
   "metadata": {},
   "source": [
    "\\begin{equation}\n",
    "    y(x) = - \\frac{1}{2}x^2 + \\frac{1}{2}x\n",
    "\\end{equation}"
   ]
  },
  {
   "cell_type": "code",
   "execution_count": 7,
   "metadata": {},
   "outputs": [],
   "source": [
    "class Network2(nn.Module):\n",
    "    def __init__(self):\n",
    "        super().__init__()\n",
    "        self.hidden_layer = nn.Linear(1, 10)\n",
    "        self.output_layer = nn.Linear(10, 1)\n",
    "\n",
    "    def forward(self, x):\n",
    "        layer_out = torch.sigmoid(self.hidden_layer(x))\n",
    "        output = self.output_layer(layer_out)\n",
    "        return output\n",
    "    \n",
    "N2 = Network2()\n",
    "N2 = N2.to(device)"
   ]
  },
  {
   "cell_type": "code",
   "execution_count": 8,
   "metadata": {},
   "outputs": [],
   "source": [
    "def f(x):\n",
    "    return -torch.ones(x.shape[0], x.shape[1])\n",
    "\n",
    "def loss(x):\n",
    "    x.requires_grad = True\n",
    "    y = N2(x)\n",
    "    dy_dx = torch.autograd.grad(y.sum(), x, create_graph=True)[0]\n",
    "    y_double_prime = torch.autograd.grad(dy_dx.sum(), x, create_graph=True)[0]\n",
    "    \n",
    "    return torch.mean( (y_double_prime - f(x))**2 ) + 0.5*(y[0, 0] - 0.)**2 + 0.5*(y[-1, 0] - 0.)**2"
   ]
  },
  {
   "cell_type": "code",
   "execution_count": 9,
   "metadata": {},
   "outputs": [],
   "source": [
    "optimizer = torch.optim.LBFGS(N2.parameters())\n",
    "\n",
    "x = torch.linspace(0, 1, 100)[:, None]\n",
    "\n",
    "def closure():\n",
    "    optimizer.zero_grad()\n",
    "    l = loss(x)\n",
    "    l.backward()\n",
    "\n",
    "    return l\n",
    "\n",
    "epochs = 10\n",
    "for i in range(epochs):\n",
    "    optimizer.step(closure)"
   ]
  },
  {
   "cell_type": "code",
   "execution_count": 10,
   "metadata": {},
   "outputs": [
    {
     "data": {
      "image/png": "[encoded data removed]",
      "text/plain": [
       "<Figure size 720x432 with 1 Axes>"
      ]
     },
     "metadata": {
      "needs_background": "light"
     },
     "output_type": "display_data"
    }
   ],
   "source": [
    "import matplotlib.pyplot as plt\n",
    "\n",
    "xx = torch.linspace(0, 1, 100)[:, None]\n",
    "with torch.no_grad():\n",
    "    yy = N2(xx)\n",
    "\n",
    "plt.figure(figsize=(10, 6))\n",
    "plt.plot(xx, yy, label=\"Predicted\")\n",
    "plt.plot(xx, -0.5*torch.pow(xx, 2) + 0.5*xx, '--', label=\"Exact\")\n",
    "plt.xlabel('x')\n",
    "plt.ylabel('y')\n",
    "plt.legend()\n",
    "plt.grid()"
   ]
  },
  {
   "cell_type": "markdown",
   "metadata": {},
   "source": [
    "Sources: https://www.sciencedirect.com/science/article/pii/S0021999118307125"
   ]
  },
  {
   "cell_type": "code",
   "execution_count": null,
   "metadata": {},
   "outputs": [],
   "source": []
  }
 ],
 "metadata": {
  "kernelspec": {
   "display_name": "Python 3",
   "language": "python",
   "name": "python3"
  },
  "language_info": {
   "codemirror_mode": {
    "name": "ipython",
    "version": 3
   },
   "file_extension": ".py",
   "mimetype": "text/x-python",
   "name": "python",
   "nbconvert_exporter": "python",
   "pygments_lexer": "ipython3",
   "version": "3.7.6"
  }
 },
 "nbformat": 4,
 "nbformat_minor": 4
}
